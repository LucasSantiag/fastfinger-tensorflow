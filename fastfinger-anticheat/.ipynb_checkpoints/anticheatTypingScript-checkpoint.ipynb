{
 "cells": [
  {
   "cell_type": "code",
   "execution_count": 33,
   "metadata": {},
   "outputs": [],
   "source": [
    "from selenium import webdriver\n",
    "from selenium.webdriver.common.keys import Keys\n",
    "import time\n",
    "from PIL import Image\n",
    "import numpy as np\n",
    "import pytesseract as ocr\n",
    "import cv2"
   ]
  },
  {
   "cell_type": "code",
   "execution_count": 34,
   "metadata": {},
   "outputs": [],
   "source": [
    "driver = webdriver.Chrome('/home/lucas.cardoso/fastfinger-tensorflow/chromedriver_linux64/chromedriver')\n",
    "driver.get('https://10fastfingers.com/login')"
   ]
  },
  {
   "cell_type": "code",
   "execution_count": 35,
   "metadata": {},
   "outputs": [
    {
     "name": "stdout",
     "output_type": "stream",
     "text": [
      "Email: lucassantiago.cardoso@uol.com.br\n",
      "Password: qHJTcPVmK8\n"
     ]
    }
   ],
   "source": [
    "login = input(\"Email: \")\n",
    "password = input (\"Password: \")"
   ]
  },
  {
   "cell_type": "code",
   "execution_count": 36,
   "metadata": {},
   "outputs": [],
   "source": [
    "driver.find_element('id', 'UserEmail').send_keys(login)\n",
    "driver.find_element('id', 'UserPassword').send_keys(password)\n",
    "driver.find_element('id', 'login-form-submit').click()"
   ]
  },
  {
   "cell_type": "code",
   "execution_count": 80,
   "metadata": {},
   "outputs": [],
   "source": [
    "while True:\n",
    "    try:\n",
    "        highlightWord = driver.find_elements_by_class_name(\"highlight\")[0]   \n",
    "    except:\n",
    "        break\n",
    "    driver.find_element('id','inputfield').send_keys(highlightWord.text + \" \")\n",
    "    time.sleep(0.075)"
   ]
  },
  {
   "cell_type": "code",
   "execution_count": 81,
   "metadata": {},
   "outputs": [],
   "source": [
    "driver.get(\"https://10fastfingers.com/anticheat/view/1/1\")\n",
    "driver.find_element('id', 'start-btn').click()"
   ]
  },
  {
   "cell_type": "code",
   "execution_count": 82,
   "metadata": {},
   "outputs": [
    {
     "data": {
      "text/plain": [
       "True"
      ]
     },
     "execution_count": 82,
     "metadata": {},
     "output_type": "execute_result"
    }
   ],
   "source": [
    "driver.save_screenshot(\"screenshot.png\")"
   ]
  },
  {
   "cell_type": "code",
   "execution_count": 83,
   "metadata": {},
   "outputs": [],
   "source": [
    "from PIL import Image\n",
    "imageObject  = Image.open(\"screenshot.png\")\n",
    "cropped = imageObject.crop((300,190,880,320))\n",
    "cropped.save(\"screenshot.png\")"
   ]
  },
  {
   "cell_type": "code",
   "execution_count": 84,
   "metadata": {},
   "outputs": [
    {
     "name": "stdout",
     "output_type": "stream",
     "text": [
      "iªra“: Fªme three on know one next this find show 90\n",
      "\n",
      "ª for went could such quickly children his stan :d\n",
      "call around people your every move you had her set bigeªr\n",
      "home came does second come grow\n"
     ]
    }
   ],
   "source": [
    "imagem = Image.open('screenshot.png').convert('RGB')\n",
    "npimagem = np.asarray(imagem).astype(np.uint8)  \n",
    "npimagem[:, :, 0] = 0\n",
    "npimagem[:, :, 2] = 0\n",
    "im = cv2.cvtColor(npimagem, cv2.COLOR_RGB2GRAY) \n",
    "\n",
    "ret, thresh = cv2.threshold(im, 127, 255, cv2.THRESH_BINARY | cv2.THRESH_OTSU) \n",
    "\n",
    "binimagem = Image.fromarray(thresh) \n",
    "\n",
    "phrase = ocr.image_to_string(binimagem, lang='por')\n",
    "print(phrase) \n"
   ]
  },
  {
   "cell_type": "code",
   "execution_count": 85,
   "metadata": {},
   "outputs": [],
   "source": [
    "textarea = driver.find_element('id', 'word-input')\n",
    "textarea.send_keys (phrase)\n",
    "driver.find_element('id','submit-anticheat').click()"
   ]
  }
 ],
 "metadata": {
  "kernelspec": {
   "display_name": "Python 3",
   "language": "python",
   "name": "python3"
  },
  "language_info": {
   "codemirror_mode": {
    "name": "ipython",
    "version": 3
   },
   "file_extension": ".py",
   "mimetype": "text/x-python",
   "name": "python",
   "nbconvert_exporter": "python",
   "pygments_lexer": "ipython3",
   "version": "3.7.1"
  }
 },
 "nbformat": 4,
 "nbformat_minor": 2
}
