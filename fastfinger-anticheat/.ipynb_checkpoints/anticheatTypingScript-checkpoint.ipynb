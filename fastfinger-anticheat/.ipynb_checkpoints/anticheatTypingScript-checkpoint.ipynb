{
 "cells": [
  {
   "cell_type": "code",
   "execution_count": 8,
   "metadata": {},
   "outputs": [],
   "source": [
    "from selenium import webdriver\n",
    "from selenium.webdriver.common.keys import Keys\n",
    "import time"
   ]
  },
  {
   "cell_type": "code",
   "execution_count": 37,
   "metadata": {},
   "outputs": [],
   "source": [
    "driver = webdriver.Chrome('/home/lucas.cardoso/fastfinger-tensorflow/chromedriver_linux64/chromedriver')\n",
    "driver.get('https://10fastfingers.com/login')"
   ]
  },
  {
   "cell_type": "code",
   "execution_count": 38,
   "metadata": {},
   "outputs": [
    {
     "name": "stdout",
     "output_type": "stream",
     "text": [
      "Email: lucassantiago.cardoso@uol.com.br\n",
      "Password: qHJTcPVmK8\n"
     ]
    }
   ],
   "source": [
    "login = input(\"Email: \")\n",
    "password = input (\"Password: \")\n",
    "#qHJTcPVmK8"
   ]
  },
  {
   "cell_type": "code",
   "execution_count": 39,
   "metadata": {},
   "outputs": [],
   "source": [
    "driver.find_element('id', 'UserEmail').send_keys(login)\n",
    "driver.find_element('id', 'UserPassword').send_keys(password)\n",
    "driver.find_element('id', 'login-form-submit').click()"
   ]
  },
  {
   "cell_type": "code",
   "execution_count": 40,
   "metadata": {},
   "outputs": [],
   "source": [
    "while True:\n",
    "    try:\n",
    "        highlightWord = driver.find_elements_by_class_name(\"highlight\")[0]   \n",
    "    except:\n",
    "        break\n",
    "    driver.find_element('id','inputfield').send_keys(highlightWord.text + \" \")\n",
    "    time.sleep(0.07)"
   ]
  },
  {
   "cell_type": "code",
   "execution_count": 44,
   "metadata": {},
   "outputs": [],
   "source": [
    "driver.get(\"https://10fastfingers.com/anticheat/view/1/1\")\n",
    "driver.find_element('id', 'start-btn').click()"
   ]
  }
 ],
 "metadata": {
  "kernelspec": {
   "display_name": "Python 3",
   "language": "python",
   "name": "python3"
  },
  "language_info": {
   "codemirror_mode": {
    "name": "ipython",
    "version": 3
   },
   "file_extension": ".py",
   "mimetype": "text/x-python",
   "name": "python",
   "nbconvert_exporter": "python",
   "pygments_lexer": "ipython3",
   "version": "3.7.1"
  }
 },
 "nbformat": 4,
 "nbformat_minor": 2
}
