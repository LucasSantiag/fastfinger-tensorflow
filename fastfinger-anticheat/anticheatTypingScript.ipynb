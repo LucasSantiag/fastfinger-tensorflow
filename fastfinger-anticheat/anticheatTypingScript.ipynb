{
 "cells": [
  {
   "cell_type": "code",
   "execution_count": null,
   "metadata": {},
   "outputs": [],
   "source": [
    "from selenium import webdriver\n",
    "from selenium.webdriver.common.keys import Keys\n",
    "from PIL import Image\n",
    "from google.cloud import vision\n",
    "from google.cloud.vision import types\n",
    "import time\n",
    "import numpy as np\n",
    "import pytesseract as ocr\n",
    "import cv2"
   ]
  },
  {
   "cell_type": "code",
   "execution_count": null,
   "metadata": {},
   "outputs": [],
   "source": [
    "driver = webdriver.Chrome('/home/lucas.cardoso/fastfinger-tensorflow/chromedriver_linux64/chromedriver')\n",
    "driver.get('https://10fastfingers.com/login')"
   ]
  },
  {
   "cell_type": "code",
   "execution_count": null,
   "metadata": {},
   "outputs": [],
   "source": [
    "login = input(\"Email: \")\n",
    "password = input (\"Password: \")"
   ]
  },
  {
   "cell_type": "code",
   "execution_count": null,
   "metadata": {},
   "outputs": [],
   "source": [
    "driver.find_element('id', 'UserEmail').send_keys(login)\n",
    "driver.find_element('id', 'UserPassword').send_keys(password)\n",
    "driver.find_element('id', 'login-form-submit').click()"
   ]
  },
  {
   "cell_type": "code",
   "execution_count": null,
   "metadata": {},
   "outputs": [],
   "source": [
    "while True:\n",
    "    try:\n",
    "        highlightWord = driver.find_elements_by_class_name(\"highlight\")[0]   \n",
    "    except:\n",
    "        break\n",
    "    driver.find_element('id','inputfield').send_keys(highlightWord.text + \" \")\n",
    "    time.sleep(0.075)"
   ]
  },
  {
   "cell_type": "code",
   "execution_count": null,
   "metadata": {},
   "outputs": [],
   "source": [
    "driver.get(\"https://10fastfingers.com/anticheat/view/1/1\")\n",
    "driver.find_element('id', 'start-btn').click()\n",
    "driver.set_window_size(1050, 1000)\n",
    "print (driver.get_window_size())"
   ]
  },
  {
   "cell_type": "code",
   "execution_count": null,
   "metadata": {},
   "outputs": [],
   "source": [
    "driver.save_screenshot(\"screenshot.png\")"
   ]
  },
  {
   "cell_type": "code",
   "execution_count": null,
   "metadata": {},
   "outputs": [],
   "source": [
    "from PIL import Image\n",
    "imageObject  = Image.open(\"screenshot.png\")\n",
    "cropped = imageObject.crop((300,190,880,320))\n",
    "cropped.save(\"screenshot.png\")"
   ]
  },
  {
   "cell_type": "code",
   "execution_count": null,
   "metadata": {},
   "outputs": [],
   "source": [
    "imagem = Image.open('screenshot.png').convert('RGB')\n",
    "npimagem = np.asarray(imagem).astype(np.uint8)  \n",
    "npimagem[:, :, 0] = 0\n",
    "npimagem[:, :, 2] = 0\n",
    "im = cv2.cvtColor(npimagem, cv2.COLOR_RGB2GRAY) \n",
    "\n",
    "ret, thresh = cv2.threshold(im, 127, 255, cv2.THRESH_BINARY | cv2.THRESH_OTSU) \n",
    "\n",
    "binimagem = Image.fromarray(thresh) \n",
    "\n",
    "phrase = ocr.image_to_string(binimagem, lang='por')\n",
    "print(phrase) \n"
   ]
  },
  {
   "cell_type": "code",
   "execution_count": null,
   "metadata": {},
   "outputs": [],
   "source": [
    "import os\n",
    "import io\n",
    "\n",
    "os.environ[\"GOOGLE_APPLICATION_CREDENTIALS\"]=\"/home/lucas.cardoso/Downloads/fastfingers-67e42e3ddf3d.json\"\n",
    "client = vision.ImageAnnotatorClient()\n",
    "\n",
    "# The name of the image file to annotate\n",
    "file_name = os.path.join(\n",
    "    os.path.dirname('screenshot.png'))\n",
    "\n",
    "# Loads the image into memory\n",
    "with io.open('screenshot.png', 'rb') as image_file:\n",
    "    content = image_file.read()\n",
    "\n",
    "image = types.Image(content=content)\n",
    "\n",
    "# Performs label detection on the image file\n",
    "response = client.label_detection(image=image)\n",
    "labels = response.label_annotations\n",
    "\n",
    "print('Labels:')\n",
    "for label in labels:\n",
    "    print(label.description)"
   ]
  },
  {
   "cell_type": "code",
   "execution_count": null,
   "metadata": {},
   "outputs": [],
   "source": [
    "textarea = driver.find_element('id', 'word-input')\n",
    "textarea.send_keys (phrase)\n",
    "driver.find_element('id','submit-anticheat').click()"
   ]
  }
 ],
 "metadata": {
  "kernelspec": {
   "display_name": "Python 3",
   "language": "python",
   "name": "python3"
  },
  "language_info": {
   "codemirror_mode": {
    "name": "ipython",
    "version": 3
   },
   "file_extension": ".py",
   "mimetype": "text/x-python",
   "name": "python",
   "nbconvert_exporter": "python",
   "pygments_lexer": "ipython3",
   "version": "3.7.1"
  }
 },
 "nbformat": 4,
 "nbformat_minor": 2
}
